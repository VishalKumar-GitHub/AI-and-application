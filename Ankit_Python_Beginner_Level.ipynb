{
  "cells": [
    {
      "cell_type": "markdown",
      "metadata": {
        "id": "view-in-github",
        "colab_type": "text"
      },
      "source": [
        "<a href=\"https://colab.research.google.com/github/VishalKumar-GitHub/AI-and-application/blob/main/Ankit_Python_Beginner_Level.ipynb\" target=\"_parent\"><img src=\"https://colab.research.google.com/assets/colab-badge.svg\" alt=\"Open In Colab\"/></a>"
      ]
    },
    {
      "cell_type": "markdown",
      "source": [
        "Day 1-2: Python Basics\n",
        "\n",
        "✅ Print statements (print())\n",
        "\n",
        "✅ Variables & Data Types (int, float, str, bool)\n",
        "\n",
        "✅ Basic Arithmetic Operations (+, -, *, /, %)\n",
        "\n",
        "✅ Input from users (input())\n",
        "\n",
        "✅ Comments (# single-line, \"\"\" multi-line \"\"\")"
      ],
      "metadata": {
        "id": "BaYsZM4Ndz7Y"
      }
    },
    {
      "cell_type": "markdown",
      "source": [
        "1️⃣ Print Statements (print())\n",
        "\n",
        "Q1: Write a Python program to print:\n",
        "\n",
        "`Hello, World!`"
      ],
      "metadata": {
        "id": "Qa9INulpekQW"
      }
    },
    {
      "cell_type": "code",
      "source": [
        "text = 'Hello, World!'\n",
        "print(text)"
      ],
      "metadata": {
        "colab": {
          "base_uri": "https://localhost:8080/"
        },
        "id": "OJfYW0KFU6tf",
        "outputId": "8d51e3c8-3382-4967-bf4c-55f008f5758a"
      },
      "execution_count": null,
      "outputs": [
        {
          "output_type": "stream",
          "name": "stdout",
          "text": [
            "Hello, World!\n"
          ]
        }
      ]
    },
    {
      "cell_type": "markdown",
      "source": [
        "\n",
        "Q2: Print your name and favorite hobby in two separate lines.\n",
        "\n"
      ],
      "metadata": {
        "id": "phiGqpYQSHS4"
      }
    },
    {
      "cell_type": "code",
      "source": [
        "Text = \"Ankit,\\n Reading\"    #The backslash (\\) itself is known as an escape character.\n",
        "print(Text)"
      ],
      "metadata": {
        "colab": {
          "base_uri": "https://localhost:8080/"
        },
        "id": "_DywMpSKezwd",
        "outputId": "61ee8eeb-d991-4a42-8153-89e4dc376176"
      },
      "execution_count": null,
      "outputs": [
        {
          "output_type": "stream",
          "name": "stdout",
          "text": [
            "Ankit,\n",
            " Reading\n"
          ]
        }
      ]
    },
    {
      "cell_type": "markdown",
      "source": [
        "**\\n** represents a new line (line break).\n",
        "\n",
        "**\\t** represents a tab space.\n",
        "\n",
        "**\\\\** represents a literal backslash (\\)."
      ],
      "metadata": {
        "id": "f4YhlTGLSkrH"
      }
    },
    {
      "cell_type": "markdown",
      "source": [
        "2️⃣ Variables & Data Types (`int, float, str, bool`)\n",
        "\n",
        "Q3: Create and print variables for:\n",
        "\n",
        "Your name (string)\n",
        "\n",
        "Your age (integer)\n",
        "\n",
        "Your height (float)\n",
        "\n",
        "Whether you love coding (boolean)"
      ],
      "metadata": {
        "id": "eiX48-uxfYbS"
      }
    },
    {
      "cell_type": "code",
      "source": [
        "name = \"Ankit\"\n",
        "age = 25\n",
        "height = 5.8\n",
        "love_coding = True\n",
        "\n",
        "print(name, age, height, love_coding)"
      ],
      "metadata": {
        "colab": {
          "base_uri": "https://localhost:8080/"
        },
        "id": "-qe13WUufEAv",
        "outputId": "e178681e-dd90-494a-86d6-6efa61d04c7c"
      },
      "execution_count": null,
      "outputs": [
        {
          "output_type": "stream",
          "name": "stdout",
          "text": [
            "Ankit 25 5.8 True\n"
          ]
        }
      ]
    },
    {
      "cell_type": "markdown",
      "source": [
        "3️⃣ Basic Arithmetic Operations (`+, -, *, /, %`)\n",
        "\n",
        "Q4: Write a program that calculates:\n",
        "\n",
        "The sum of 10 and 20\n",
        "\n",
        "The difference between 50 and 15\n",
        "\n",
        "The product of 7 and 8\n",
        "\n",
        "The division of 100 by 5\n",
        "\n",
        "The remainder when 17 is divided by 3"
      ],
      "metadata": {
        "id": "P2mcPrRFhJ4f"
      }
    },
    {
      "cell_type": "code",
      "source": [
        "a = 10 + 20\n",
        "b = 50 - 15\n",
        "c = 7  * 8\n",
        "d = 100 / 5\n",
        "e = 17 % 5\n",
        "\n",
        "print(a, b, c, d, e)"
      ],
      "metadata": {
        "colab": {
          "base_uri": "https://localhost:8080/"
        },
        "id": "BmF6zRuzha6g",
        "outputId": "0d99893c-182b-472e-9186-2432ab29cdd1"
      },
      "execution_count": null,
      "outputs": [
        {
          "output_type": "stream",
          "name": "stdout",
          "text": [
            "30 35 56 20.0 2\n"
          ]
        }
      ]
    },
    {
      "cell_type": "markdown",
      "source": [
        "4️⃣ Taking User Input (`input()`)\n",
        "\n",
        "Q5: Ask the user to enter their name and age, then print:\n",
        "\n",
        "`Hello [name]! You are [age] years old.`"
      ],
      "metadata": {
        "id": "jBZlkcOciYcn"
      }
    },
    {
      "cell_type": "code",
      "source": [
        "name = input(\"Enter your name: \")\n",
        "age = input(\"Enter your age:\")\n",
        "\n",
        "print(f\"Hello: {name}, Your age: {age} year old\" )"
      ],
      "metadata": {
        "colab": {
          "base_uri": "https://localhost:8080/"
        },
        "id": "dcSdumf1iCES",
        "outputId": "e47e5fa5-6965-46dc-e91d-1abc864074e8"
      },
      "execution_count": null,
      "outputs": [
        {
          "output_type": "stream",
          "name": "stdout",
          "text": [
            "Enter your name: Ankit Rana\n",
            "Enter your age:25\n",
            "Hello: Ankit Rana, Your age: 25 year old\n"
          ]
        }
      ]
    },
    {
      "cell_type": "markdown",
      "source": [
        "Q6: Ask the user to input two numbers and print their sum."
      ],
      "metadata": {
        "id": "qp7iOwN5TC4n"
      }
    },
    {
      "cell_type": "code",
      "source": [
        "Num1 = int(input(\"Enter first number: \"))\n",
        "Num2 = int(input(\"Enter second number: \"))\n",
        "\n",
        "sum = Num1 + Num2\n",
        "\n",
        "print(sum)"
      ],
      "metadata": {
        "colab": {
          "base_uri": "https://localhost:8080/"
        },
        "id": "I6BbSOAXj90P",
        "outputId": "a03a9292-73d2-4c33-8fe7-e1342c095580"
      },
      "execution_count": null,
      "outputs": [
        {
          "output_type": "stream",
          "name": "stdout",
          "text": [
            "Enter first number: 50\n",
            "Enter second number: 30\n",
            "80\n"
          ]
        }
      ]
    },
    {
      "cell_type": "markdown",
      "source": [
        "Q8: Write a program that calculates the area of a rectangle (**length × width**) and add a **multi-line comment** explaining the formula.\n",
        "\n"
      ],
      "metadata": {
        "id": "Z9Y_gUqZlrL-"
      }
    },
    {
      "cell_type": "code",
      "source": [
        "length = 4   #\"\"\"This is a length of rectangle\"\"\"\n",
        "width = 3    #\"\"\"This is a width of rectangle\"\"\"\n",
        "\n",
        "area = 0.5 * 4 * 3    #\"\"\"This is a area of rectangle\"\"\"\n",
        "\n",
        "print(area)   #\"\"\"This is a print statemanet\"\"\""
      ],
      "metadata": {
        "colab": {
          "base_uri": "https://localhost:8080/"
        },
        "id": "a0ViOiRAlJan",
        "outputId": "e03277ca-ec73-49b9-fe30-033e820ea366"
      },
      "execution_count": null,
      "outputs": [
        {
          "output_type": "stream",
          "name": "stdout",
          "text": [
            "6.0\n"
          ]
        }
      ]
    },
    {
      "cell_type": "code",
      "source": [
        "\"\"\"\n",
        "This program calculates the area of a rectangle.\n",
        "\n",
        "Formula:\n",
        "    Area = Length × Width\n",
        "Where:\n",
        "    - Length is the longer side of the rectangle.\n",
        "    - Width is the shorter side of the rectangle.\n",
        "\"\"\"\n",
        "\n",
        "# Taking user input for length and width\n",
        "length = float(input(\"Enter the length of the rectangle: \"))\n",
        "width = float(input(\"Enter the width of the rectangle: \"))\n",
        "\n",
        "# Calculating the area\n",
        "area = length * width\n",
        "\n",
        "# Printing the result\n",
        "print(\"The area of the rectangle is:\", area)\n"
      ],
      "metadata": {
        "colab": {
          "base_uri": "https://localhost:8080/"
        },
        "id": "FRW8Sb-xma4W",
        "outputId": "e1c021f1-6639-4951-a44d-7ab21caeeaaf"
      },
      "execution_count": null,
      "outputs": [
        {
          "output_type": "stream",
          "name": "stdout",
          "text": [
            "Enter the length of the rectangle: 5.3\n",
            "Enter the width of the rectangle: 4.6\n",
            "The area of the rectangle is: 24.38\n"
          ]
        }
      ]
    },
    {
      "cell_type": "markdown",
      "source": [
        "Day 3-4: Conditional Statements & Loops\n",
        "\n",
        "✅ If-Else conditions (if, elif, else)\n",
        "\n",
        "✅ Logical Operators (and, or, not)\n",
        "\n",
        "✅ Loops (for, while)\n",
        "\n",
        "✅ Loop control statements (break, continue, pass)\n",
        "\n",
        "🔹 Practice: Write a program that prints numbers from 1 to 20 but skips multiples of 3"
      ],
      "metadata": {
        "id": "GjNxXQRjoFgw"
      }
    },
    {
      "cell_type": "markdown",
      "source": [
        "1️⃣ **If-Else Conditions** (`if, elif, else`)\n",
        "\n",
        "Q1: Write a program that asks the user to enter a number and checks if it is **positive, negative, or zero**."
      ],
      "metadata": {
        "id": "PUQs2nWuoYNq"
      }
    },
    {
      "cell_type": "code",
      "source": [
        "number = int(input(\"Enter a number: \"))\n",
        "\n",
        "if number > 0:\n",
        "    print(\"Positive\")\n",
        "elif number == 0:\n",
        "    print(\"Zero\")\n",
        "else:\n",
        "    print(\"Negative\")\n"
      ],
      "metadata": {
        "colab": {
          "base_uri": "https://localhost:8080/"
        },
        "id": "hvKp4gkAroeU",
        "outputId": "48a69de8-741a-4c33-84b3-8c739a73cfed"
      },
      "execution_count": null,
      "outputs": [
        {
          "output_type": "stream",
          "name": "stdout",
          "text": [
            "Enter a number: -7\n",
            "Negative\n"
          ]
        }
      ]
    },
    {
      "cell_type": "markdown",
      "source": [
        "Q2: Write a program that asks for a person's **age** and prints:\n",
        "\n",
        "\"Child\" if age is **less than 12**\n",
        "\n",
        "\"Teenager\" if age is `between 12 and 18`\n",
        "\n",
        "\"Adult\" if age is **above 18**"
      ],
      "metadata": {
        "id": "EqN9Y_WnTIxC"
      }
    },
    {
      "cell_type": "code",
      "source": [
        "age = int(input(\"Enter your age: \"))\n",
        "\n",
        "if age < 12:\n",
        "  print(\"Child\")\n",
        "elif age >= 12 and age <= 18:\n",
        " print(\"Teenager\")\n",
        "else :\n",
        "  print(\"Adult\")"
      ],
      "metadata": {
        "colab": {
          "base_uri": "https://localhost:8080/"
        },
        "id": "t_2EKCbWr9xW",
        "outputId": "2df3de67-26cd-46c1-a6c6-5ce06caddcce"
      },
      "execution_count": null,
      "outputs": [
        {
          "output_type": "stream",
          "name": "stdout",
          "text": [
            "Enter your age: 17\n",
            "Teenager\n"
          ]
        }
      ]
    },
    {
      "cell_type": "markdown",
      "source": [
        "2️⃣ Logical Operators (`and, or, not`)\n",
        "\n",
        "Q3: Write a program that checks if a number is **between 10 and 50** using the **and** operator.\n"
      ],
      "metadata": {
        "id": "uNzJn98PtrW0"
      }
    },
    {
      "cell_type": "code",
      "source": [
        "# Taking user input\n",
        "x = int(input(\"Enter a number: \"))\n",
        "\n",
        "# Checking if the number is between 10 and 50\n",
        "if x >= 10 and x <= 50:\n",
        "    print(\"The number is between 10 and 50.\")\n",
        "else:\n",
        "    print(\"The number is NOT between 10 and 50.\")\n"
      ],
      "metadata": {
        "colab": {
          "base_uri": "https://localhost:8080/"
        },
        "id": "JdNtI2zI_BHV",
        "outputId": "c58e44f0-b027-4c08-9549-2d39f677605f"
      },
      "execution_count": 7,
      "outputs": [
        {
          "output_type": "stream",
          "name": "stdout",
          "text": [
            "Enter a number: 22\n",
            "The number is between 10 and 50.\n"
          ]
        }
      ]
    },
    {
      "cell_type": "markdown",
      "source": [
        "Q4: Write a program that asks the user for a letter and checks if it is a **vowel (a, e, i, o, u)** using the **or** operator."
      ],
      "metadata": {
        "id": "Ac5MrbZVTUFY"
      }
    },
    {
      "cell_type": "code",
      "source": [
        "letter = input(\"Enter a letter:\").lower()\n",
        "\n",
        "if letter == \"a\" or letter == \"e\" or letter == \"i\" or letter == \"o\" or letter == \"u\":\n",
        "  print(\"letter is vowel\")\n",
        "else:\n",
        "  print(\"letter is not vowel\")"
      ],
      "metadata": {
        "colab": {
          "base_uri": "https://localhost:8080/"
        },
        "id": "0YwFElN18DHE",
        "outputId": "8e6be93e-d567-4dc9-c2e2-2b3ca194dc69"
      },
      "execution_count": 10,
      "outputs": [
        {
          "output_type": "stream",
          "name": "stdout",
          "text": [
            "Enter a letter:a\n",
            "letter is vowel\n"
          ]
        }
      ]
    },
    {
      "cell_type": "markdown",
      "source": [
        "Q5: Use the **not** operator to check if a number **is not equal to 100**."
      ],
      "metadata": {
        "id": "sRiCkLOxTQGT"
      }
    },
    {
      "cell_type": "code",
      "source": [
        "number = int(input(\"Enter a number: \"))\n",
        "\n",
        "if not number == 100:\n",
        "  print(\"This is not equal\")\n",
        "else:\n",
        "  print(\"This is equal\")\n",
        "\n"
      ],
      "metadata": {
        "colab": {
          "base_uri": "https://localhost:8080/"
        },
        "id": "nuQ9zbqP-eCp",
        "outputId": "05503370-7e2c-4893-fef3-0e3d07fd7c51"
      },
      "execution_count": 12,
      "outputs": [
        {
          "output_type": "stream",
          "name": "stdout",
          "text": [
            "Enter a number: 100\n",
            "This is equal\n"
          ]
        }
      ]
    },
    {
      "cell_type": "markdown",
      "source": [
        "3️⃣ Loops (`for, while`)\n",
        "\n",
        "Q6: Write a program that prints numbers from **1 to 10** using a `for` loop.\n"
      ],
      "metadata": {
        "id": "X7CzbsW3AS4l"
      }
    },
    {
      "cell_type": "code",
      "source": [
        "for i in range (1, 10):\n",
        "  print(i)"
      ],
      "metadata": {
        "colab": {
          "base_uri": "https://localhost:8080/"
        },
        "id": "mN8oaADtDfOz",
        "outputId": "55690286-a181-4cad-fe43-b9b3dda5754c"
      },
      "execution_count": 13,
      "outputs": [
        {
          "output_type": "stream",
          "name": "stdout",
          "text": [
            "1\n",
            "2\n",
            "3\n",
            "4\n",
            "5\n",
            "6\n",
            "7\n",
            "8\n",
            "9\n"
          ]
        }
      ]
    },
    {
      "cell_type": "markdown",
      "source": [
        "Q7: Write a program that prints numbers from **1 to 10** using a `while` loop."
      ],
      "metadata": {
        "id": "4eX8_BzeGF71"
      }
    },
    {
      "cell_type": "code",
      "source": [
        "i = 1 # Start from 1\n",
        "\n",
        "while i <= 10:\n",
        "  print(i)\n",
        "  i += 1"
      ],
      "metadata": {
        "colab": {
          "base_uri": "https://localhost:8080/"
        },
        "id": "EgGE1v73DrKQ",
        "outputId": "1b292091-69d9-4f53-ebc6-e6d6e0b3b95d"
      },
      "execution_count": 17,
      "outputs": [
        {
          "output_type": "stream",
          "name": "stdout",
          "text": [
            "1\n",
            "2\n",
            "3\n",
            "4\n",
            "5\n",
            "6\n",
            "7\n",
            "8\n",
            "9\n",
            "10\n"
          ]
        }
      ]
    },
    {
      "cell_type": "markdown",
      "source": [
        "Q8: Write a program that asks the user for a number and prints its **multiplication table (1 to 10)** using a `for` loop."
      ],
      "metadata": {
        "id": "xrJvGBgXGNwY"
      }
    },
    {
      "cell_type": "code",
      "source": [
        "# Taking user input\n",
        "num = int(input(\"Enter a number: \"))\n",
        "\n",
        "# Printing the multiplication table using a for loop\n",
        "print(f\"\\n Multiplication Table of {num}:\")\n",
        "for i in range(1, 11):  # Loop from 1 to 10\n",
        "    print(f\"{num} × {i} = {num * i}\")"
      ],
      "metadata": {
        "colab": {
          "base_uri": "https://localhost:8080/"
        },
        "id": "dxYMGrtpE3bH",
        "outputId": "50b46ca2-7bb8-4c71-db8e-0b74c7356bc1"
      },
      "execution_count": 29,
      "outputs": [
        {
          "output_type": "stream",
          "name": "stdout",
          "text": [
            "Enter a number: 21\n",
            "\n",
            " Multiplication Table of 21:\n",
            "21 × 1 = 21\n",
            "21 × 2 = 42\n",
            "21 × 3 = 63\n",
            "21 × 4 = 84\n",
            "21 × 5 = 105\n",
            "21 × 6 = 126\n",
            "21 × 7 = 147\n",
            "21 × 8 = 168\n",
            "21 × 9 = 189\n",
            "21 × 10 = 210\n"
          ]
        }
      ]
    },
    {
      "cell_type": "markdown",
      "source": [
        "4️⃣ Loop Control Statements (`break, continue, pass`)\n",
        "\n",
        "Q9: Write a program that prints numbers from **1 to 10**, but skips **5** using `continue`."
      ],
      "metadata": {
        "id": "IjpdsCdEF-R_"
      }
    },
    {
      "cell_type": "code",
      "source": [
        "for i in range (1, 11):\n",
        "  if i == 5:\n",
        "    continue\n",
        "  print(i)"
      ],
      "metadata": {
        "colab": {
          "base_uri": "https://localhost:8080/"
        },
        "id": "6tVK46WdH8DN",
        "outputId": "02f40983-1cc0-44f7-e9a0-067d82997487"
      },
      "execution_count": 2,
      "outputs": [
        {
          "output_type": "stream",
          "name": "stdout",
          "text": [
            "1\n",
            "2\n",
            "3\n",
            "4\n",
            "6\n",
            "7\n",
            "8\n",
            "9\n",
            "10\n"
          ]
        }
      ]
    },
    {
      "cell_type": "markdown",
      "source": [
        "Q10: Write a program that prints numbers from **1 to 10**, but stops at **7** using `break`."
      ],
      "metadata": {
        "id": "asUXwIXZBDl5"
      }
    },
    {
      "cell_type": "code",
      "source": [
        "for i in range (1, 11):\n",
        "  if i == 7:\n",
        "    break\n",
        "  print(i)"
      ],
      "metadata": {
        "colab": {
          "base_uri": "https://localhost:8080/"
        },
        "id": "qQvN-J5pA4vz",
        "outputId": "b4978493-9fd8-4821-e6d1-151da6c02ea8"
      },
      "execution_count": 3,
      "outputs": [
        {
          "output_type": "stream",
          "name": "stdout",
          "text": [
            "1\n",
            "2\n",
            "3\n",
            "4\n",
            "5\n",
            "6\n"
          ]
        }
      ]
    },
    {
      "cell_type": "markdown",
      "source": [
        "Q11: Write a program with a loop that contains the `pass` statement and explain why it is used."
      ],
      "metadata": {
        "id": "_OeACFByBeVM"
      }
    },
    {
      "cell_type": "code",
      "source": [
        "for i in range (1, 11):\n",
        "  if i == 4:\n",
        "    pass\n",
        "  print(i)"
      ],
      "metadata": {
        "colab": {
          "base_uri": "https://localhost:8080/"
        },
        "id": "QEAr2t5MBUnp",
        "outputId": "cfe48cfa-0df4-4e42-fc93-14fec2e559ab"
      },
      "execution_count": 4,
      "outputs": [
        {
          "output_type": "stream",
          "name": "stdout",
          "text": [
            "1\n",
            "2\n",
            "3\n",
            "4\n",
            "5\n",
            "6\n",
            "7\n",
            "8\n",
            "9\n",
            "10\n"
          ]
        }
      ]
    },
    {
      "cell_type": "markdown",
      "source": [
        "Day 5-6: Data Structures - Lists & Tuples\n",
        "\n",
        "✅ Lists ([], append(), remove(), pop())\n",
        "\n",
        "✅ List slicing & iteration\n",
        "\n",
        "✅ Tuples (()) - Immutable lists\n",
        "\n",
        "✅ List comprehension\n"
      ],
      "metadata": {
        "id": "kUm_X37HCbIA"
      }
    },
    {
      "cell_type": "markdown",
      "source": [
        "1️⃣ Lists ([ ], append( ), remove( ), pop( ))\n",
        "\n",
        "Q1: Create a list of 5 fruits and print the list."
      ],
      "metadata": {
        "id": "avP8iGr-CnzM"
      }
    },
    {
      "cell_type": "code",
      "source": [
        "fruits = [\"Apple\", \"Banana\", \"Guava\", \"Graps\", \"Cherry\"]\n",
        "print(fruits)"
      ],
      "metadata": {
        "colab": {
          "base_uri": "https://localhost:8080/"
        },
        "id": "689iqmSkCnbF",
        "outputId": "76f47437-a509-4b9b-df8a-72c9edc9202b"
      },
      "execution_count": 23,
      "outputs": [
        {
          "output_type": "stream",
          "name": "stdout",
          "text": [
            "['Apple', 'Banana', 'Guava', 'Graps', 'Cherry']\n"
          ]
        }
      ]
    },
    {
      "cell_type": "markdown",
      "source": [
        "Q2: Add **\"Mango\"** to the list using `append()`, then print the updated list."
      ],
      "metadata": {
        "id": "-B7tgHGlCr3Y"
      }
    },
    {
      "cell_type": "code",
      "source": [
        "fruits.append(\"Mango\")\n",
        "print(fruits)"
      ],
      "metadata": {
        "colab": {
          "base_uri": "https://localhost:8080/"
        },
        "id": "SiyWNn39Cvpb",
        "outputId": "3bc72f8f-402f-49ae-868c-4d27a3809757"
      },
      "execution_count": 24,
      "outputs": [
        {
          "output_type": "stream",
          "name": "stdout",
          "text": [
            "['Apple', 'Banana', 'Guava', 'Graps', 'Cherry', 'Mango']\n"
          ]
        }
      ]
    },
    {
      "cell_type": "markdown",
      "source": [
        "Q3: Remove the second item from the list using `remove()` or `pop()` and print the updated list."
      ],
      "metadata": {
        "id": "TzXrIZEKCwBt"
      }
    },
    {
      "cell_type": "code",
      "source": [
        "fruits.remove(\"Guava\")\n",
        "print(fruits)"
      ],
      "metadata": {
        "colab": {
          "base_uri": "https://localhost:8080/"
        },
        "id": "mrEhqDNOBtbx",
        "outputId": "8511864f-bca4-40ca-b482-3d8257943a14"
      },
      "execution_count": 25,
      "outputs": [
        {
          "output_type": "stream",
          "name": "stdout",
          "text": [
            "['Apple', 'Banana', 'Graps', 'Cherry', 'Mango']\n"
          ]
        }
      ]
    },
    {
      "cell_type": "code",
      "source": [
        "fruits.pop()\n",
        "print(fruits)"
      ],
      "metadata": {
        "colab": {
          "base_uri": "https://localhost:8080/"
        },
        "id": "-K48GjuyEwLP",
        "outputId": "75bc00ab-611c-4c2c-f420-9d90290af7d8"
      },
      "execution_count": 26,
      "outputs": [
        {
          "output_type": "stream",
          "name": "stdout",
          "text": [
            "['Apple', 'Banana', 'Graps', 'Cherry']\n"
          ]
        }
      ]
    },
    {
      "cell_type": "markdown",
      "source": [
        "2️⃣ List Slicing & Iteration\n",
        "\n",
        "Q4: Create a list of 10 numbers and print only the **first 5 numbers** using slicing."
      ],
      "metadata": {
        "id": "6Ohfz5laFWJs"
      }
    },
    {
      "cell_type": "code",
      "source": [
        "Number = [2, 4, 6, 8, 10, 12, 14, 16, 18, 21]\n",
        "print(Number[:5])"
      ],
      "metadata": {
        "colab": {
          "base_uri": "https://localhost:8080/"
        },
        "id": "kauxpuSUFvAe",
        "outputId": "3bf20a87-448d-4055-f445-ae5e627d7b22"
      },
      "execution_count": 29,
      "outputs": [
        {
          "output_type": "stream",
          "name": "stdout",
          "text": [
            "[2, 4, 6, 8, 10]\n"
          ]
        }
      ]
    },
    {
      "cell_type": "markdown",
      "source": [
        "Q5: Print only the **last 3 numbers** from the list using slicing."
      ],
      "metadata": {
        "id": "eiVmrwhjFtbj"
      }
    },
    {
      "cell_type": "code",
      "source": [
        "print(Number[-3:])"
      ],
      "metadata": {
        "colab": {
          "base_uri": "https://localhost:8080/"
        },
        "id": "veeapuUkGjQB",
        "outputId": "9554da32-b060-45a7-99ae-5301d45a02a3"
      },
      "execution_count": 38,
      "outputs": [
        {
          "output_type": "stream",
          "name": "stdout",
          "text": [
            "[16, 18, 21]\n"
          ]
        }
      ]
    },
    {
      "cell_type": "markdown",
      "source": [
        "Q6: Use a **for** loop to print each item in a list of colors."
      ],
      "metadata": {
        "id": "TQ6QEgUwFq0U"
      }
    },
    {
      "cell_type": "code",
      "source": [
        "colors = [\"Red\", \"Yellow\", \"Black\", \"Blue\", \"White\"]\n",
        "print(colors)"
      ],
      "metadata": {
        "colab": {
          "base_uri": "https://localhost:8080/"
        },
        "id": "t7JEwbsEE5_h",
        "outputId": "18923563-678c-4a59-92a4-ce73f3e134c2"
      },
      "execution_count": 40,
      "outputs": [
        {
          "output_type": "stream",
          "name": "stdout",
          "text": [
            "['Red', 'Yellow', 'Black', 'Blue', 'White']\n"
          ]
        }
      ]
    },
    {
      "cell_type": "code",
      "source": [
        "for color in colors:\n",
        "  print(color)"
      ],
      "metadata": {
        "colab": {
          "base_uri": "https://localhost:8080/"
        },
        "id": "DX86BG2-IDi_",
        "outputId": "d3dfe9b2-9271-49c8-aa49-fa595b34f813"
      },
      "execution_count": 41,
      "outputs": [
        {
          "output_type": "stream",
          "name": "stdout",
          "text": [
            "Red\n",
            "Yellow\n",
            "Black\n",
            "Blue\n",
            "White\n"
          ]
        }
      ]
    },
    {
      "cell_type": "markdown",
      "source": [
        "3️⃣ **Tuples (( ))** - Immutable Lists\n",
        "\n",
        "Q7: Create a tuple with 3 country names and print it."
      ],
      "metadata": {
        "id": "FAJ1B36AInuP"
      }
    },
    {
      "cell_type": "code",
      "source": [
        "country = (\"USA\", \"UK\", \"Germany\")\n",
        "print(country)"
      ],
      "metadata": {
        "colab": {
          "base_uri": "https://localhost:8080/"
        },
        "id": "gkTtaCUGI9hX",
        "outputId": "c15935e7-16a8-437c-ee5b-204f22844c5a"
      },
      "execution_count": 42,
      "outputs": [
        {
          "output_type": "stream",
          "name": "stdout",
          "text": [
            "('USA', 'UK', 'Germany')\n"
          ]
        }
      ]
    },
    {
      "cell_type": "markdown",
      "source": [
        "Q8: Try modifying a value in the tuple and observe the error."
      ],
      "metadata": {
        "id": "U1p9v_idIzrZ"
      }
    },
    {
      "cell_type": "code",
      "source": [
        "country[0] = \"INDIA\"\n",
        "print(country)"
      ],
      "metadata": {
        "id": "sa4y-9ESJck6"
      },
      "execution_count": null,
      "outputs": []
    },
    {
      "cell_type": "code",
      "source": [
        "country.append(\"INDIA\")\n",
        "print(country)"
      ],
      "metadata": {
        "id": "Ii0So3LsJwMm"
      },
      "execution_count": null,
      "outputs": []
    },
    {
      "cell_type": "markdown",
      "source": [
        "Q9: Convert a tuple into a list, modify it, and convert it back into a tuple."
      ],
      "metadata": {
        "id": "BkjG6cggIwFL"
      }
    },
    {
      "cell_type": "code",
      "source": [
        "list_country = list(country)\n",
        "print(list_country)"
      ],
      "metadata": {
        "colab": {
          "base_uri": "https://localhost:8080/"
        },
        "id": "o7X6QDdOJvFa",
        "outputId": "c5a00be0-38ed-451c-f718-657e8e9cb297"
      },
      "execution_count": 45,
      "outputs": [
        {
          "output_type": "stream",
          "name": "stdout",
          "text": [
            "['USA', 'UK', 'Germany']\n"
          ]
        }
      ]
    },
    {
      "cell_type": "code",
      "source": [
        "list_country.append(\"India\")\n",
        "print(list_country)"
      ],
      "metadata": {
        "colab": {
          "base_uri": "https://localhost:8080/"
        },
        "id": "M2Og_IFKKv4U",
        "outputId": "e4f0f77c-ee65-462a-b8d2-1cf04120c7ec"
      },
      "execution_count": 46,
      "outputs": [
        {
          "output_type": "stream",
          "name": "stdout",
          "text": [
            "['USA', 'UK', 'Germany', 'India']\n"
          ]
        }
      ]
    },
    {
      "cell_type": "code",
      "source": [
        "new_tuple = tuple(list_country)\n",
        "print(new_tuple)"
      ],
      "metadata": {
        "colab": {
          "base_uri": "https://localhost:8080/"
        },
        "id": "tlwHTmDiK84n",
        "outputId": "f38bf10a-878f-4edb-f27d-dca53ae4ca39"
      },
      "execution_count": 47,
      "outputs": [
        {
          "output_type": "stream",
          "name": "stdout",
          "text": [
            "('USA', 'UK', 'Germany', 'India')\n"
          ]
        }
      ]
    },
    {
      "cell_type": "markdown",
      "source": [
        "4️⃣ List Comprehension\n",
        "\n",
        "Q10: Create a list of **squares** of numbers from 1 to 10 using list comprehension."
      ],
      "metadata": {
        "id": "Gjae9a9kIqJ9"
      }
    },
    {
      "cell_type": "code",
      "source": [
        "for x in range(1, 11):\n",
        "  print(x**2)      #Output = (Printed Line by Line)"
      ],
      "metadata": {
        "colab": {
          "base_uri": "https://localhost:8080/"
        },
        "id": "ZcM_pcZHLlcZ",
        "outputId": "212dc405-407e-4401-cc8c-b6f6f4aa51da"
      },
      "execution_count": 48,
      "outputs": [
        {
          "output_type": "stream",
          "name": "stdout",
          "text": [
            "1\n",
            "4\n",
            "9\n",
            "16\n",
            "25\n",
            "36\n",
            "49\n",
            "64\n",
            "81\n",
            "100\n"
          ]
        }
      ]
    },
    {
      "cell_type": "markdown",
      "source": [
        "✅ Each number is printed on a new line."
      ],
      "metadata": {
        "id": "Vu1HbeMLNRLy"
      }
    },
    {
      "cell_type": "code",
      "source": [
        "square = [x**2 for x in range(1, 11)]\n",
        "print(square)"
      ],
      "metadata": {
        "colab": {
          "base_uri": "https://localhost:8080/"
        },
        "id": "z8gjrqIWL7A-",
        "outputId": "3171971a-15b8-497c-f81d-5a9098e0b677"
      },
      "execution_count": 49,
      "outputs": [
        {
          "output_type": "stream",
          "name": "stdout",
          "text": [
            "[1, 4, 9, 16, 25, 36, 49, 64, 81, 100]\n"
          ]
        }
      ]
    },
    {
      "cell_type": "markdown",
      "source": [
        "✅ The output is stored as a list and printed in list format."
      ],
      "metadata": {
        "id": "j05XSuDwNX3v"
      }
    },
    {
      "cell_type": "markdown",
      "source": [
        "Q11: Create a list of even numbers from 1 to 20 using list comprehension."
      ],
      "metadata": {
        "id": "ouzQ_NRbLZmV"
      }
    },
    {
      "cell_type": "code",
      "source": [
        "num = [x for x in range(1, 21) if x % 2 == 0]\n",
        "print(num)"
      ],
      "metadata": {
        "colab": {
          "base_uri": "https://localhost:8080/"
        },
        "id": "p2mD5ijONc7r",
        "outputId": "589e3447-b360-4a5f-9137-8caa7884623b"
      },
      "execution_count": 50,
      "outputs": [
        {
          "output_type": "stream",
          "name": "stdout",
          "text": [
            "[2, 4, 6, 8, 10, 12, 14, 16, 18, 20]\n"
          ]
        }
      ]
    },
    {
      "cell_type": "markdown",
      "source": [
        "\n",
        "\n",
        "Q12: Take a list of names and create a new list containing only names that start with \"A\" using list comprehension."
      ],
      "metadata": {
        "id": "hw-6VyMrLdUV"
      }
    },
    {
      "cell_type": "code",
      "source": [
        "names = [\"Ankit\", \"Rohit\", \"Ajay\", \"Vijay\", \"Vikas\"]\n",
        "name_A = [name for name in names if name.startswith(\"A\")]\n",
        "print(name_A)"
      ],
      "metadata": {
        "colab": {
          "base_uri": "https://localhost:8080/"
        },
        "id": "ZrE8nBIsIbvT",
        "outputId": "cfbb8249-a9f4-4572-8a57-24098579bf6b"
      },
      "execution_count": 53,
      "outputs": [
        {
          "output_type": "stream",
          "name": "stdout",
          "text": [
            "['Ankit', 'Ajay']\n"
          ]
        }
      ]
    },
    {
      "cell_type": "code",
      "source": [
        "names = [\"Ankit\", \"Rohit\", \"Ajay\", \"Vijay\", \"Vikas\"]\n",
        "name_A = [name for name in names if name.endswith(\"s\")]\n",
        "print(name_A)"
      ],
      "metadata": {
        "colab": {
          "base_uri": "https://localhost:8080/"
        },
        "id": "gLm0armHO7ON",
        "outputId": "86ebac2d-8350-4899-eaec-3c6b974af007"
      },
      "execution_count": 54,
      "outputs": [
        {
          "output_type": "stream",
          "name": "stdout",
          "text": [
            "['Vikas']\n"
          ]
        }
      ]
    },
    {
      "cell_type": "code",
      "source": [
        "names = [\n",
        "    \"Olivia\", \"James\", \"Sophia\", \"Daniel\", \"Emma\", \"Benjamin\", \"Charlotte\", \"Ethan\", \"Amelia\", \"Michael\",\n",
        "    \"Mia\", \"Alexander\", \"Harper\", \"William\", \"Evelyn\", \"Henry\", \"Abigail\", \"Lucas\", \"Ella\", \"Mason\",\n",
        "    \"Scarlett\", \"Logan\", \"Grace\", \"Jack\", \"Victoria\", \"Liam\", \"Avery\", \"Samuel\", \"Madison\", \"Sebastian\",\n",
        "    \"Luna\", \"Matthew\", \"Chloe\", \"David\", \"Nora\", \"Elijah\", \"Hannah\", \"Gabriel\", \"Aiden\", \"Lily\",\n",
        "    \"Christopher\", \"Zoe\", \"Joseph\", \"Natalie\", \"Andrew\", \"Penelope\", \"Ryan\", \"Camila\", \"Joshua\", \"Leah\",\n",
        "    \"Julian\", \"Savannah\", \"Nathan\", \"Brooklyn\", \"Dylan\", \"Stella\", \"Caleb\", \"Skylar\", \"Isaac\", \"Paisley\",\n",
        "    \"Leo\", \"Eliana\", \"Hunter\", \"Aria\", \"Wyatt\", \"Aurora\", \"Jonathan\", \"Hazel\", \"Luke\", \"Violet\",\n",
        "    \"Isaiah\", \"Ellie\", \"John\", \"Lucy\", \"Anthony\", \"Mila\", \"Theodore\", \"Ruby\", \"Charles\", \"Alice\",\n",
        "    \"Eli\", \"Sarah\", \"Landon\", \"Bella\", \"Connor\", \"Claire\", \"Adrian\", \"Autumn\", \"Christian\", \"Kennedy\",\n",
        "    \"Hudson\", \"Genesis\", \"Robert\", \"Jade\", \"Thomas\", \"Delilah\", \"Jordan\", \"Valentina\", \"Dominic\", \"Ariana\",\n",
        "    \"Easton\", \"Caroline\", \"Jaxon\", \"Brielle\", \"Adam\", \"Everly\", \"Ian\", \"Sadie\", \"Austin\", \"Madeline\",\n",
        "    \"Jace\", \"Piper\", \"Nolan\", \"Nevaeh\", \"Aaron\", \"Melanie\", \"Lincoln\", \"Rylee\", \"Jeremiah\", \"Isla\",\n",
        "    \"Ezekiel\", \"Athena\", \"Greyson\", \"Julia\", \"Jose\", \"Kinsley\", \"Nicholas\", \"Hadley\", \"Angel\", \"Emilia\",\n",
        "    \"Brayden\", \"Vivian\", \"Everett\", \"Clara\", \"Miles\", \"Josephine\", \"Micah\", \"Ivy\", \"Sawyer\", \"Peyton\",\n",
        "    \"Jason\", \"Adeline\", \"Roman\", \"Lyric\", \"Xavier\", \"Noelle\", \"Maxwell\", \"Cora\", \"Carlos\", \"Quinn\",\n",
        "    \"Jasper\", \"Maeve\", \"Kingston\", \"Rose\", \"Kaiden\", \"Naomi\", \"Maddox\", \"Willow\", \"Diego\", \"June\",\n",
        "    \"Max\", \"Elise\", \"Asher\", \"Sienna\", \"Mateo\", \"Allison\", \"Grayson\", \"Andrea\", \"Zachary\", \"Rachel\",\n",
        "    \"Finn\", \"Eliza\", \"Weston\", \"Angela\", \"Tucker\", \"Reagan\", \"Blake\", \"Lyla\", \"Tyler\", \"Faith\",\n",
        "    \"Emmett\", \"Trinity\", \"Oscar\", \"Jasmine\", \"Alex\", \"Tessa\", \"Gavin\", \"Lillian\", \"Bentley\", \"Makayla\",\n",
        "    \"Calvin\", \"Brynlee\", \"Jonah\", \"Juliette\", \"Malachi\", \"Ryleigh\", \"Ryder\", \"Gracie\", \"Hayden\", \"Margaret\",\n",
        "    \"Jude\", \"Alaina\", \"Beau\", \"Lola\", \"Amari\", \"Camille\", \"Jake\", \"Brianna\", \"Zane\", \"Jocelyn\"\n",
        "]\n",
        "\n",
        "name_H = [name for name in names if name.startswith(\"H\")]\n",
        "print(name_H)"
      ],
      "metadata": {
        "colab": {
          "base_uri": "https://localhost:8080/"
        },
        "id": "uoVTRWJVQBZf",
        "outputId": "785ac5e3-3fad-4bc4-b927-137524082f88"
      },
      "execution_count": 60,
      "outputs": [
        {
          "output_type": "stream",
          "name": "stdout",
          "text": [
            "['Harper', 'Henry', 'Hannah', 'Hunter', 'Hazel', 'Hudson', 'Hadley', 'Hayden']\n"
          ]
        }
      ]
    },
    {
      "cell_type": "markdown",
      "source": [
        "Day 7-8: Data Structures - Dictionaries & Sets\n",
        "\n",
        "✅ Dictionaries (`{key: value}`, .`get(), .keys(), .values()`)\n",
        "\n",
        "✅ Sets (`set(), add(), remove(), union(), intersection()`)\n"
      ],
      "metadata": {
        "id": "F8u4tONpR9UF"
      }
    },
    {
      "cell_type": "markdown",
      "source": [
        "1️⃣ Dictionaries ({key: value}, .get(), .keys(), .values())\n",
        "\n",
        "Q1: Create a dictionary to store the names and ages of three people. Print the dictionary."
      ],
      "metadata": {
        "id": "aeceNoQfM7sr"
      }
    },
    {
      "cell_type": "code",
      "source": [
        "names = {\"Ankit\": 25, \"Rohit\": 20, \"Vijay\": 37}\n",
        "print(names)"
      ],
      "metadata": {
        "colab": {
          "base_uri": "https://localhost:8080/"
        },
        "id": "1didg3kcNoL0",
        "outputId": "89ca3fe2-77f5-4716-d87c-bd3cd89a94a9"
      },
      "execution_count": 3,
      "outputs": [
        {
          "output_type": "stream",
          "name": "stdout",
          "text": [
            "{'Ankit': 25, 'Rohit': 20, 'Vijay': 37}\n"
          ]
        }
      ]
    },
    {
      "cell_type": "markdown",
      "source": [
        "Q2: Given the dictionary below, print only the keys and then only the values."
      ],
      "metadata": {
        "id": "qiv2i09cNBXb"
      }
    },
    {
      "cell_type": "code",
      "source": [
        "print(names.keys())\n",
        "print(names.values())"
      ],
      "metadata": {
        "colab": {
          "base_uri": "https://localhost:8080/"
        },
        "id": "pdR680SvORRI",
        "outputId": "d5e65e63-3bb3-4e61-fe51-997f8fb35b96"
      },
      "execution_count": 5,
      "outputs": [
        {
          "output_type": "stream",
          "name": "stdout",
          "text": [
            "dict_keys(['Ankit', 'Rohit', 'Vijay'])\n",
            "dict_values([25, 20, 37])\n"
          ]
        }
      ]
    },
    {
      "cell_type": "markdown",
      "source": [
        "Q3: Write a program that asks the user for a country name and prints its capital using the dictionary below. If the country is not found, print `\"Country not in the list.\"`"
      ],
      "metadata": {
        "id": "Rt6KZcy0NFLT"
      }
    },
    {
      "cell_type": "code",
      "source": [
        "country_capitals = {\n",
        "    \"France\": \"Paris\",\n",
        "    \"Germany\": \"Berlin\",\n",
        "    \"Italy\": \"Rome\",\n",
        "    \"Spain\": \"Madrid\",}\n",
        "\n",
        "\n",
        "country = input(\"Enter a country name: \")\n",
        "capital = country_capitals.get(country, \"Country not in the list.\")\n",
        "print(capital)"
      ],
      "metadata": {
        "colab": {
          "base_uri": "https://localhost:8080/"
        },
        "id": "TF4KNlrmPPbg",
        "outputId": "6294bf83-d72b-44f9-828b-c26164ca424e"
      },
      "execution_count": 8,
      "outputs": [
        {
          "output_type": "stream",
          "name": "stdout",
          "text": [
            "Enter a country name: India\n",
            "Country not in the list.\n"
          ]
        }
      ]
    },
    {
      "cell_type": "markdown",
      "source": [
        "Q4: Use the `.get()` method to retrieve the value of the key `\"age\" `from the dictionary below. If the key is not found, print `\"Key not found\"` instead."
      ],
      "metadata": {
        "id": "vWodf5JiNUCq"
      }
    },
    {
      "cell_type": "code",
      "source": [
        "names_ages = input(\"Enter a name: \")\n",
        "ages = names.get(names_ages, \"Key not found\")\n",
        "print(ages)"
      ],
      "metadata": {
        "colab": {
          "base_uri": "https://localhost:8080/"
        },
        "id": "zVKAOJo5R2Eg",
        "outputId": "7ebc99c1-7a29-46da-91d6-d0ed5a4d359f"
      },
      "execution_count": 11,
      "outputs": [
        {
          "output_type": "stream",
          "name": "stdout",
          "text": [
            "Enter a name: Rohit\n",
            "20\n"
          ]
        }
      ]
    },
    {
      "cell_type": "markdown",
      "source": [
        "Q5: Add a new key `\"email\"` with the value `\"john@example.com\"` to the dictionary below and print the updated dictionary."
      ],
      "metadata": {
        "id": "Edhq-qn7Ni7E"
      }
    },
    {
      "cell_type": "code",
      "source": [
        "names[\"email\"] = \"ankit@123.com\"\n",
        "print(names)"
      ],
      "metadata": {
        "colab": {
          "base_uri": "https://localhost:8080/"
        },
        "id": "Lk1OU-STRgRY",
        "outputId": "3a99f05b-802a-45c7-ed72-f4a10b87cb5c"
      },
      "execution_count": 13,
      "outputs": [
        {
          "output_type": "stream",
          "name": "stdout",
          "text": [
            "{'Ankit': 25, 'Rohit': 20, 'Vijay': 37, 'email': 'ankit@123.com'}\n"
          ]
        }
      ]
    },
    {
      "cell_type": "markdown",
      "source": [
        "2️⃣ Sets (`set(), add(), remove(), union(), intersection()`)\n",
        "\n",
        "Q6: Create a set with five unique fruit names and print it."
      ],
      "metadata": {
        "id": "LqSvHsyIU-PV"
      }
    },
    {
      "cell_type": "code",
      "source": [
        "fruits = {\"Apple\", \"Banana\", \"Guava\", \"Graps\", \"Cherry\"}\n",
        "print(fruits)"
      ],
      "metadata": {
        "colab": {
          "base_uri": "https://localhost:8080/"
        },
        "id": "vkRHPpOXVaUC",
        "outputId": "2cde6f8c-ba7a-4a80-8fd4-7bdc7c26937f"
      },
      "execution_count": 14,
      "outputs": [
        {
          "output_type": "stream",
          "name": "stdout",
          "text": [
            "{'Banana', 'Guava', 'Apple', 'Graps', 'Cherry'}\n"
          ]
        }
      ]
    },
    {
      "cell_type": "markdown",
      "source": [
        "Q7: Add `\"Mango\"` to the set below and print the updated set."
      ],
      "metadata": {
        "id": "Zm6ZMuYqVBM7"
      }
    },
    {
      "cell_type": "code",
      "source": [
        "fruits.add(\"Mango\")\n",
        "print(fruits)"
      ],
      "metadata": {
        "colab": {
          "base_uri": "https://localhost:8080/"
        },
        "id": "NsSm3cJeVmS-",
        "outputId": "b962631c-2300-4c43-80f6-19893a7726aa"
      },
      "execution_count": 15,
      "outputs": [
        {
          "output_type": "stream",
          "name": "stdout",
          "text": [
            "{'Mango', 'Banana', 'Guava', 'Apple', 'Graps', 'Cherry'}\n"
          ]
        }
      ]
    },
    {
      "cell_type": "markdown",
      "source": [
        "Q8: Remove `\"Banana\"` from the set below and print the updated set."
      ],
      "metadata": {
        "id": "8CyxYnkoVEIQ"
      }
    },
    {
      "cell_type": "code",
      "source": [
        "fruits.remove(\"Banana\")\n",
        "print(fruits)"
      ],
      "metadata": {
        "colab": {
          "base_uri": "https://localhost:8080/"
        },
        "id": "3aODXJagVx9g",
        "outputId": "213e8092-019b-46b5-d437-179c935454c0"
      },
      "execution_count": 16,
      "outputs": [
        {
          "output_type": "stream",
          "name": "stdout",
          "text": [
            "{'Mango', 'Guava', 'Apple', 'Graps', 'Cherry'}\n"
          ]
        }
      ]
    },
    {
      "cell_type": "markdown",
      "source": [
        "Q9: Find the union of the two sets below and print the result."
      ],
      "metadata": {
        "id": "5od5a6xZVGya"
      }
    },
    {
      "cell_type": "code",
      "source": [
        "set1 = {1, 6, 7, 9}\n",
        "set2 = {2, 10, 6, 9}\n",
        "Final_union = set1.union(set2)\n",
        "print(Final_union)"
      ],
      "metadata": {
        "colab": {
          "base_uri": "https://localhost:8080/"
        },
        "id": "IZTih4YlV6ik",
        "outputId": "133487df-f170-4b78-abe3-6b3d55019341"
      },
      "execution_count": 17,
      "outputs": [
        {
          "output_type": "stream",
          "name": "stdout",
          "text": [
            "{1, 2, 6, 7, 9, 10}\n"
          ]
        }
      ]
    },
    {
      "cell_type": "markdown",
      "source": [
        "Q10: Find the intersection of the two sets below and print the result."
      ],
      "metadata": {
        "id": "Um0gklRrVJH2"
      }
    },
    {
      "cell_type": "code",
      "source": [
        "Final_intersection = set1.intersection(set2)\n",
        "print(Final_intersection)"
      ],
      "metadata": {
        "colab": {
          "base_uri": "https://localhost:8080/"
        },
        "id": "cmAKTiS6Ts4m",
        "outputId": "c421d75b-112d-4ae5-8122-26a998b230bc"
      },
      "execution_count": 18,
      "outputs": [
        {
          "output_type": "stream",
          "name": "stdout",
          "text": [
            "{9, 6}\n"
          ]
        }
      ]
    },
    {
      "cell_type": "markdown",
      "source": [
        "Day 9-10: Functions & Modules\n",
        "\n",
        "✅ Defining functions (def function_name():)\n",
        "\n",
        "✅ Function arguments & return values\n",
        "\n",
        "✅ Importing & using Python modules (math, random, datetime\n",
        "\n",
        "✅ Writing your own modules"
      ],
      "metadata": {
        "id": "-0txY4n4XRkK"
      }
    },
    {
      "cell_type": "code",
      "source": [
        "a = int(input(\"Enter your age: \"))\n",
        "if a >= 18:\n",
        "  print(\"You can drive\")\n",
        "else:\n",
        "  print(\"You can not drive\")"
      ],
      "metadata": {
        "colab": {
          "base_uri": "https://localhost:8080/"
        },
        "id": "RsHI75X0W-_s",
        "outputId": "c4f4fc3c-8c4c-4248-b55e-1622fc6ac493"
      },
      "execution_count": 4,
      "outputs": [
        {
          "output_type": "stream",
          "name": "stdout",
          "text": [
            "Enter your age: 19\n",
            "You can drive\n"
          ]
        }
      ]
    }
  ],
  "metadata": {
    "kernelspec": {
      "display_name": "Python 3",
      "language": "python",
      "name": "python3"
    },
    "language_info": {
      "codemirror_mode": {
        "name": "ipython",
        "version": 3
      },
      "file_extension": ".py",
      "mimetype": "text/x-python",
      "name": "python",
      "nbconvert_exporter": "python",
      "pygments_lexer": "ipython3",
      "version": "3.12.3"
    },
    "colab": {
      "provenance": [],
      "include_colab_link": true
    }
  },
  "nbformat": 4,
  "nbformat_minor": 0
}